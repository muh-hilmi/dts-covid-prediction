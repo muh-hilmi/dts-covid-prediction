{
 "cells": [
  {
   "cell_type": "markdown",
   "id": "43904978",
   "metadata": {},
   "source": [
    " # Prediksi Status Kematian Pasien Virus COVID-19 "
   ]
  },
  {
   "cell_type": "markdown",
   "id": "d932f98f",
   "metadata": {},
   "source": [
    "<h2> Deskripsi Masalah </h2>"
   ]
  },
  {
   "cell_type": "markdown",
   "id": "9c64c63f",
   "metadata": {},
   "source": [
    "Dengan jumlah kasus yang dapat melonjak dengan signifikan sewaktu-waktu dan ketersediaan \n",
    "sumber daya medis yang terbatas kami rasa perlu langkah yang efektif dan efisien dalam \n",
    "mengobati pasien yang terinfeksi COVID-19, salah satunya dengan mengklasifikasikan status \n",
    "pasien. Tenaga medis memerlukan bantuan untuk mengklasifikasi status pasien berdasarkan data \n",
    "pasien secara otomatis untuk mengurangi kelelahan tenaga medis yang harus terus bertugas dan \n",
    "meminimalisir resiko penanganan yang terlambat terhadap pasien Oleh karena itu dibutuhkan \n",
    "solusi teknologi berbasis data secara otomatis yang dapat membantu mengklasifikasikan status \n",
    "kegawatan berdasarkan data pasien.\n",
    "Dalam project ini kami akan membuat model prediktif yang dapat memprediksi status kematian \n",
    "akibat virus covid-19 secara akurat, mengidentifikasi predictor terpenting kematian akibat covid\u000219 secara akurat, \n",
    "dan mengidentifikasikan predictor terpenting dari kematian covid-19."
   ]
  },
  {
   "cell_type": "markdown",
   "id": "0f10985d",
   "metadata": {},
   "source": [
    "<h2> Library </h2>"
   ]
  },
  {
   "cell_type": "code",
   "execution_count": 1,
   "id": "7c1ce9bf",
   "metadata": {},
   "outputs": [],
   "source": [
    "#import library \n",
    "import pandas as pd\n",
    "import numpy as np\n",
    "import matplotlib.pyplot as plt\n",
    "import seaborn as sns"
   ]
  },
  {
   "cell_type": "markdown",
   "id": "c938b714",
   "metadata": {},
   "source": [
    "<h2> Data </h2> \n",
    "\n",
    "Data pasien covid yang di publish oleh pemerintah Mexico yang kami peroleh dari https://www.gob.mx/salud/documentos/datos-abiertos-152127   , dengan jumlah pasien kurang lebih sebanyak 50.000"
   ]
  },
  {
   "cell_type": "code",
   "execution_count": 2,
   "id": "7a876db5",
   "metadata": {},
   "outputs": [
    {
     "data": {
      "text/html": [
       "<div>\n",
       "<style scoped>\n",
       "    .dataframe tbody tr th:only-of-type {\n",
       "        vertical-align: middle;\n",
       "    }\n",
       "\n",
       "    .dataframe tbody tr th {\n",
       "        vertical-align: top;\n",
       "    }\n",
       "\n",
       "    .dataframe thead th {\n",
       "        text-align: right;\n",
       "    }\n",
       "</style>\n",
       "<table border=\"1\" class=\"dataframe\">\n",
       "  <thead>\n",
       "    <tr style=\"text-align: right;\">\n",
       "      <th></th>\n",
       "      <th>id</th>\n",
       "      <th>sex</th>\n",
       "      <th>patient_type</th>\n",
       "      <th>entry_date</th>\n",
       "      <th>date_symptoms</th>\n",
       "      <th>date_died</th>\n",
       "      <th>intubed</th>\n",
       "      <th>pneumonia</th>\n",
       "      <th>age</th>\n",
       "      <th>pregnancy</th>\n",
       "      <th>...</th>\n",
       "      <th>inmsupr</th>\n",
       "      <th>hypertension</th>\n",
       "      <th>other_disease</th>\n",
       "      <th>cardiovascular</th>\n",
       "      <th>obesity</th>\n",
       "      <th>renal_chronic</th>\n",
       "      <th>tobacco</th>\n",
       "      <th>contact_other_covid</th>\n",
       "      <th>covid_res</th>\n",
       "      <th>icu</th>\n",
       "    </tr>\n",
       "  </thead>\n",
       "  <tbody>\n",
       "    <tr>\n",
       "      <th>0</th>\n",
       "      <td>16169f</td>\n",
       "      <td>2</td>\n",
       "      <td>1</td>\n",
       "      <td>04-05-2020</td>\n",
       "      <td>02-05-2020</td>\n",
       "      <td>9999-99-99</td>\n",
       "      <td>97</td>\n",
       "      <td>2</td>\n",
       "      <td>27</td>\n",
       "      <td>97</td>\n",
       "      <td>...</td>\n",
       "      <td>2</td>\n",
       "      <td>2</td>\n",
       "      <td>2</td>\n",
       "      <td>2</td>\n",
       "      <td>2</td>\n",
       "      <td>2</td>\n",
       "      <td>2</td>\n",
       "      <td>2</td>\n",
       "      <td>1</td>\n",
       "      <td>97</td>\n",
       "    </tr>\n",
       "    <tr>\n",
       "      <th>1</th>\n",
       "      <td>1009bf</td>\n",
       "      <td>2</td>\n",
       "      <td>1</td>\n",
       "      <td>19-03-2020</td>\n",
       "      <td>17-03-2020</td>\n",
       "      <td>9999-99-99</td>\n",
       "      <td>97</td>\n",
       "      <td>2</td>\n",
       "      <td>24</td>\n",
       "      <td>97</td>\n",
       "      <td>...</td>\n",
       "      <td>2</td>\n",
       "      <td>2</td>\n",
       "      <td>2</td>\n",
       "      <td>2</td>\n",
       "      <td>2</td>\n",
       "      <td>2</td>\n",
       "      <td>2</td>\n",
       "      <td>99</td>\n",
       "      <td>1</td>\n",
       "      <td>97</td>\n",
       "    </tr>\n",
       "    <tr>\n",
       "      <th>2</th>\n",
       "      <td>167386</td>\n",
       "      <td>1</td>\n",
       "      <td>2</td>\n",
       "      <td>06-04-2020</td>\n",
       "      <td>01-04-2020</td>\n",
       "      <td>9999-99-99</td>\n",
       "      <td>2</td>\n",
       "      <td>2</td>\n",
       "      <td>54</td>\n",
       "      <td>2</td>\n",
       "      <td>...</td>\n",
       "      <td>2</td>\n",
       "      <td>2</td>\n",
       "      <td>2</td>\n",
       "      <td>2</td>\n",
       "      <td>1</td>\n",
       "      <td>2</td>\n",
       "      <td>2</td>\n",
       "      <td>99</td>\n",
       "      <td>1</td>\n",
       "      <td>2</td>\n",
       "    </tr>\n",
       "    <tr>\n",
       "      <th>3</th>\n",
       "      <td>0b5948</td>\n",
       "      <td>2</td>\n",
       "      <td>2</td>\n",
       "      <td>17-04-2020</td>\n",
       "      <td>10-04-2020</td>\n",
       "      <td>9999-99-99</td>\n",
       "      <td>2</td>\n",
       "      <td>1</td>\n",
       "      <td>30</td>\n",
       "      <td>97</td>\n",
       "      <td>...</td>\n",
       "      <td>2</td>\n",
       "      <td>2</td>\n",
       "      <td>2</td>\n",
       "      <td>2</td>\n",
       "      <td>2</td>\n",
       "      <td>2</td>\n",
       "      <td>2</td>\n",
       "      <td>99</td>\n",
       "      <td>1</td>\n",
       "      <td>2</td>\n",
       "    </tr>\n",
       "    <tr>\n",
       "      <th>4</th>\n",
       "      <td>0d01b5</td>\n",
       "      <td>1</td>\n",
       "      <td>2</td>\n",
       "      <td>13-04-2020</td>\n",
       "      <td>13-04-2020</td>\n",
       "      <td>22-04-2020</td>\n",
       "      <td>2</td>\n",
       "      <td>2</td>\n",
       "      <td>60</td>\n",
       "      <td>2</td>\n",
       "      <td>...</td>\n",
       "      <td>2</td>\n",
       "      <td>1</td>\n",
       "      <td>2</td>\n",
       "      <td>1</td>\n",
       "      <td>2</td>\n",
       "      <td>2</td>\n",
       "      <td>2</td>\n",
       "      <td>99</td>\n",
       "      <td>1</td>\n",
       "      <td>2</td>\n",
       "    </tr>\n",
       "  </tbody>\n",
       "</table>\n",
       "<p>5 rows × 23 columns</p>\n",
       "</div>"
      ],
      "text/plain": [
       "       id  sex  patient_type  entry_date date_symptoms   date_died  intubed  \\\n",
       "0  16169f    2             1  04-05-2020    02-05-2020  9999-99-99       97   \n",
       "1  1009bf    2             1  19-03-2020    17-03-2020  9999-99-99       97   \n",
       "2  167386    1             2  06-04-2020    01-04-2020  9999-99-99        2   \n",
       "3  0b5948    2             2  17-04-2020    10-04-2020  9999-99-99        2   \n",
       "4  0d01b5    1             2  13-04-2020    13-04-2020  22-04-2020        2   \n",
       "\n",
       "   pneumonia  age  pregnancy  ...  inmsupr  hypertension  other_disease  \\\n",
       "0          2   27         97  ...        2             2              2   \n",
       "1          2   24         97  ...        2             2              2   \n",
       "2          2   54          2  ...        2             2              2   \n",
       "3          1   30         97  ...        2             2              2   \n",
       "4          2   60          2  ...        2             1              2   \n",
       "\n",
       "   cardiovascular  obesity  renal_chronic  tobacco  contact_other_covid  \\\n",
       "0               2        2              2        2                    2   \n",
       "1               2        2              2        2                   99   \n",
       "2               2        1              2        2                   99   \n",
       "3               2        2              2        2                   99   \n",
       "4               1        2              2        2                   99   \n",
       "\n",
       "   covid_res  icu  \n",
       "0          1   97  \n",
       "1          1   97  \n",
       "2          1    2  \n",
       "3          1    2  \n",
       "4          1    2  \n",
       "\n",
       "[5 rows x 23 columns]"
      ]
     },
     "execution_count": 2,
     "metadata": {},
     "output_type": "execute_result"
    }
   ],
   "source": [
    "#Data \n",
    "dt =pd.read_csv('covid.csv')\n",
    "dt.head()"
   ]
  },
  {
   "cell_type": "code",
   "execution_count": 3,
   "id": "b189ecb9",
   "metadata": {},
   "outputs": [
    {
     "name": "stdout",
     "output_type": "stream",
     "text": [
      "<class 'pandas.core.frame.DataFrame'>\n",
      "RangeIndex: 566602 entries, 0 to 566601\n",
      "Data columns (total 23 columns):\n",
      " #   Column               Non-Null Count   Dtype \n",
      "---  ------               --------------   ----- \n",
      " 0   id                   566602 non-null  object\n",
      " 1   sex                  566602 non-null  int64 \n",
      " 2   patient_type         566602 non-null  int64 \n",
      " 3   entry_date           566602 non-null  object\n",
      " 4   date_symptoms        566602 non-null  object\n",
      " 5   date_died            566602 non-null  object\n",
      " 6   intubed              566602 non-null  int64 \n",
      " 7   pneumonia            566602 non-null  int64 \n",
      " 8   age                  566602 non-null  int64 \n",
      " 9   pregnancy            566602 non-null  int64 \n",
      " 10  diabetes             566602 non-null  int64 \n",
      " 11  copd                 566602 non-null  int64 \n",
      " 12  asthma               566602 non-null  int64 \n",
      " 13  inmsupr              566602 non-null  int64 \n",
      " 14  hypertension         566602 non-null  int64 \n",
      " 15  other_disease        566602 non-null  int64 \n",
      " 16  cardiovascular       566602 non-null  int64 \n",
      " 17  obesity              566602 non-null  int64 \n",
      " 18  renal_chronic        566602 non-null  int64 \n",
      " 19  tobacco              566602 non-null  int64 \n",
      " 20  contact_other_covid  566602 non-null  int64 \n",
      " 21  covid_res            566602 non-null  int64 \n",
      " 22  icu                  566602 non-null  int64 \n",
      "dtypes: int64(19), object(4)\n",
      "memory usage: 99.4+ MB\n"
     ]
    }
   ],
   "source": [
    "dt.info()"
   ]
  },
  {
   "cell_type": "markdown",
   "id": "3be73337",
   "metadata": {},
   "source": [
    "<h2>Input Variables </h2>"
   ]
  },
  {
   "cell_type": "markdown",
   "id": "0f7ef0aa",
   "metadata": {},
   "source": [
    "1. Id (numeric)<br>\n",
    "2. sex : jenis kelamin (kategorik) <br>\n",
    "3. patient_type : apakah dirawat di rs atau tidak (kategorik)<br>\n",
    "4. entry_date : tanggal masuk rs (numeric) <br>\n",
    "5. date_symptoms : tanggal mulai gejala (numeric)<br>\n",
    "6. date_died : apakah mati atau tidak (kategorik) <br>\n",
    "7. intubed : apakah pasien membutuhkan intubasi atau tidak (kategorik) <br>  \n",
    "8. pneunomia : penderita pneunomia (kategorik) <br>    \n",
    "9. age : usia dalam tahun (numeric) <br>    \n",
    "10. pregnancy : kehamilan (kategorik)<br>   \n",
    "11. copd : apakah pasien memiliki riwayat Chronic obstructive pulmonary disease (COPD) (kategorik)<br>\n",
    "12. asthma : apakah pasien memiliki riwayat asthma (kategorik) <br>   \n",
    "13. inmsupr : apakah pasien terindikasi immunosuppressed (kategorik) <br>    \n",
    "14. hypertension : apakah pasien terindikasi hypertension (kategorik) <br>\n",
    "15. other_disease : apakah pasien memiliki riwayat penyakit lainnya (kategorik)<br>\n",
    "16. cardiovascular : apakah pasien terindikasi cardiovascular (kategorik) <br>\n",
    "17. obesity : apakah pasien mengalami obesitas (kategorik)<br>\n",
    "18. renal_chronic : apakah pasien memiliki riwayat penyakit chronic renal (kategorik) <br>\n",
    "19. tobacco : apakah pasien perokok (kategorik) <br>\n",
    "20. contact_other_covid : apakah pasien kontak dengan pasien positif COVID (kategorik) <br>\n",
    "21. covid_res : apakah pasien covid atau tidak (kategorik) <br>   \n",
    "22. icu : apakah pasien perlu diberikan perawatan di ICU atau tidak (kategorik) <br>\n",
    "    \n",
    "    \n",
    "**Keterangan**\n",
    "\n",
    "1 = YA <br>\n",
    "2 = TIDAK <br>\n",
    "97,98,99 = MISSING VALUE"
   ]
  },
  {
   "cell_type": "markdown",
   "id": "32a28698",
   "metadata": {},
   "source": [
    "<h2> Predict Variable </h1>"
   ]
  },
  {
   "cell_type": "markdown",
   "id": "2e1be75a",
   "metadata": {},
   "source": [
    "status(Y) = apakah pasien teridentifikasi meninggal atau tidak ? \n",
    "\n",
    "\n",
    "1 = iya ; 0 = tidak\n",
    "\n",
    "Diperoleh dari kolom \"date_died\" dengan membuat kolom baru untuk status pasien apakah meninggal atau tidak , jika pada kolom date_died teridentifikasi tanggal meninggalnya maka pasien teridentifikasi sebagai meninggal dan sebaliknya pada variabel y\n"
   ]
  },
  {
   "cell_type": "markdown",
   "id": "1f43121a",
   "metadata": {},
   "source": [
    "<h2> Adding A New Column As Predict Variable </h2>"
   ]
  },
  {
   "cell_type": "code",
   "execution_count": 5,
   "id": "86c4042f",
   "metadata": {},
   "outputs": [
    {
     "data": {
      "text/html": [
       "<div>\n",
       "<style scoped>\n",
       "    .dataframe tbody tr th:only-of-type {\n",
       "        vertical-align: middle;\n",
       "    }\n",
       "\n",
       "    .dataframe tbody tr th {\n",
       "        vertical-align: top;\n",
       "    }\n",
       "\n",
       "    .dataframe thead th {\n",
       "        text-align: right;\n",
       "    }\n",
       "</style>\n",
       "<table border=\"1\" class=\"dataframe\">\n",
       "  <thead>\n",
       "    <tr style=\"text-align: right;\">\n",
       "      <th></th>\n",
       "      <th>id</th>\n",
       "      <th>sex</th>\n",
       "      <th>patient_type</th>\n",
       "      <th>entry_date</th>\n",
       "      <th>date_symptoms</th>\n",
       "      <th>date_died</th>\n",
       "      <th>intubed</th>\n",
       "      <th>pneumonia</th>\n",
       "      <th>age</th>\n",
       "      <th>pregnancy</th>\n",
       "      <th>...</th>\n",
       "      <th>hypertension</th>\n",
       "      <th>other_disease</th>\n",
       "      <th>cardiovascular</th>\n",
       "      <th>obesity</th>\n",
       "      <th>renal_chronic</th>\n",
       "      <th>tobacco</th>\n",
       "      <th>contact_other_covid</th>\n",
       "      <th>covid_res</th>\n",
       "      <th>icu</th>\n",
       "      <th>status</th>\n",
       "    </tr>\n",
       "  </thead>\n",
       "  <tbody>\n",
       "    <tr>\n",
       "      <th>0</th>\n",
       "      <td>16169f</td>\n",
       "      <td>2</td>\n",
       "      <td>1</td>\n",
       "      <td>04-05-2020</td>\n",
       "      <td>02-05-2020</td>\n",
       "      <td>9999-99-99</td>\n",
       "      <td>97</td>\n",
       "      <td>2</td>\n",
       "      <td>27</td>\n",
       "      <td>97</td>\n",
       "      <td>...</td>\n",
       "      <td>2</td>\n",
       "      <td>2</td>\n",
       "      <td>2</td>\n",
       "      <td>2</td>\n",
       "      <td>2</td>\n",
       "      <td>2</td>\n",
       "      <td>2</td>\n",
       "      <td>1</td>\n",
       "      <td>97</td>\n",
       "      <td>0</td>\n",
       "    </tr>\n",
       "    <tr>\n",
       "      <th>1</th>\n",
       "      <td>1009bf</td>\n",
       "      <td>2</td>\n",
       "      <td>1</td>\n",
       "      <td>19-03-2020</td>\n",
       "      <td>17-03-2020</td>\n",
       "      <td>9999-99-99</td>\n",
       "      <td>97</td>\n",
       "      <td>2</td>\n",
       "      <td>24</td>\n",
       "      <td>97</td>\n",
       "      <td>...</td>\n",
       "      <td>2</td>\n",
       "      <td>2</td>\n",
       "      <td>2</td>\n",
       "      <td>2</td>\n",
       "      <td>2</td>\n",
       "      <td>2</td>\n",
       "      <td>99</td>\n",
       "      <td>1</td>\n",
       "      <td>97</td>\n",
       "      <td>0</td>\n",
       "    </tr>\n",
       "    <tr>\n",
       "      <th>2</th>\n",
       "      <td>167386</td>\n",
       "      <td>1</td>\n",
       "      <td>2</td>\n",
       "      <td>06-04-2020</td>\n",
       "      <td>01-04-2020</td>\n",
       "      <td>9999-99-99</td>\n",
       "      <td>2</td>\n",
       "      <td>2</td>\n",
       "      <td>54</td>\n",
       "      <td>2</td>\n",
       "      <td>...</td>\n",
       "      <td>2</td>\n",
       "      <td>2</td>\n",
       "      <td>2</td>\n",
       "      <td>1</td>\n",
       "      <td>2</td>\n",
       "      <td>2</td>\n",
       "      <td>99</td>\n",
       "      <td>1</td>\n",
       "      <td>2</td>\n",
       "      <td>0</td>\n",
       "    </tr>\n",
       "    <tr>\n",
       "      <th>3</th>\n",
       "      <td>0b5948</td>\n",
       "      <td>2</td>\n",
       "      <td>2</td>\n",
       "      <td>17-04-2020</td>\n",
       "      <td>10-04-2020</td>\n",
       "      <td>9999-99-99</td>\n",
       "      <td>2</td>\n",
       "      <td>1</td>\n",
       "      <td>30</td>\n",
       "      <td>97</td>\n",
       "      <td>...</td>\n",
       "      <td>2</td>\n",
       "      <td>2</td>\n",
       "      <td>2</td>\n",
       "      <td>2</td>\n",
       "      <td>2</td>\n",
       "      <td>2</td>\n",
       "      <td>99</td>\n",
       "      <td>1</td>\n",
       "      <td>2</td>\n",
       "      <td>0</td>\n",
       "    </tr>\n",
       "    <tr>\n",
       "      <th>4</th>\n",
       "      <td>0d01b5</td>\n",
       "      <td>1</td>\n",
       "      <td>2</td>\n",
       "      <td>13-04-2020</td>\n",
       "      <td>13-04-2020</td>\n",
       "      <td>22-04-2020</td>\n",
       "      <td>2</td>\n",
       "      <td>2</td>\n",
       "      <td>60</td>\n",
       "      <td>2</td>\n",
       "      <td>...</td>\n",
       "      <td>1</td>\n",
       "      <td>2</td>\n",
       "      <td>1</td>\n",
       "      <td>2</td>\n",
       "      <td>2</td>\n",
       "      <td>2</td>\n",
       "      <td>99</td>\n",
       "      <td>1</td>\n",
       "      <td>2</td>\n",
       "      <td>1</td>\n",
       "    </tr>\n",
       "    <tr>\n",
       "      <th>...</th>\n",
       "      <td>...</td>\n",
       "      <td>...</td>\n",
       "      <td>...</td>\n",
       "      <td>...</td>\n",
       "      <td>...</td>\n",
       "      <td>...</td>\n",
       "      <td>...</td>\n",
       "      <td>...</td>\n",
       "      <td>...</td>\n",
       "      <td>...</td>\n",
       "      <td>...</td>\n",
       "      <td>...</td>\n",
       "      <td>...</td>\n",
       "      <td>...</td>\n",
       "      <td>...</td>\n",
       "      <td>...</td>\n",
       "      <td>...</td>\n",
       "      <td>...</td>\n",
       "      <td>...</td>\n",
       "      <td>...</td>\n",
       "      <td>...</td>\n",
       "    </tr>\n",
       "    <tr>\n",
       "      <th>566597</th>\n",
       "      <td>01ff60</td>\n",
       "      <td>2</td>\n",
       "      <td>1</td>\n",
       "      <td>13-05-2020</td>\n",
       "      <td>03-05-2020</td>\n",
       "      <td>9999-99-99</td>\n",
       "      <td>97</td>\n",
       "      <td>2</td>\n",
       "      <td>58</td>\n",
       "      <td>97</td>\n",
       "      <td>...</td>\n",
       "      <td>2</td>\n",
       "      <td>2</td>\n",
       "      <td>2</td>\n",
       "      <td>2</td>\n",
       "      <td>2</td>\n",
       "      <td>2</td>\n",
       "      <td>2</td>\n",
       "      <td>3</td>\n",
       "      <td>97</td>\n",
       "      <td>0</td>\n",
       "    </tr>\n",
       "    <tr>\n",
       "      <th>566598</th>\n",
       "      <td>047cd1</td>\n",
       "      <td>1</td>\n",
       "      <td>1</td>\n",
       "      <td>07-04-2020</td>\n",
       "      <td>06-04-2020</td>\n",
       "      <td>9999-99-99</td>\n",
       "      <td>97</td>\n",
       "      <td>2</td>\n",
       "      <td>48</td>\n",
       "      <td>2</td>\n",
       "      <td>...</td>\n",
       "      <td>2</td>\n",
       "      <td>2</td>\n",
       "      <td>2</td>\n",
       "      <td>2</td>\n",
       "      <td>2</td>\n",
       "      <td>2</td>\n",
       "      <td>2</td>\n",
       "      <td>3</td>\n",
       "      <td>97</td>\n",
       "      <td>0</td>\n",
       "    </tr>\n",
       "    <tr>\n",
       "      <th>566599</th>\n",
       "      <td>1beb81</td>\n",
       "      <td>1</td>\n",
       "      <td>2</td>\n",
       "      <td>14-05-2020</td>\n",
       "      <td>01-05-2020</td>\n",
       "      <td>9999-99-99</td>\n",
       "      <td>2</td>\n",
       "      <td>1</td>\n",
       "      <td>49</td>\n",
       "      <td>2</td>\n",
       "      <td>...</td>\n",
       "      <td>2</td>\n",
       "      <td>2</td>\n",
       "      <td>2</td>\n",
       "      <td>1</td>\n",
       "      <td>2</td>\n",
       "      <td>2</td>\n",
       "      <td>99</td>\n",
       "      <td>3</td>\n",
       "      <td>2</td>\n",
       "      <td>0</td>\n",
       "    </tr>\n",
       "    <tr>\n",
       "      <th>566600</th>\n",
       "      <td>16fb02</td>\n",
       "      <td>1</td>\n",
       "      <td>1</td>\n",
       "      <td>31-05-2020</td>\n",
       "      <td>29-05-2020</td>\n",
       "      <td>9999-99-99</td>\n",
       "      <td>97</td>\n",
       "      <td>1</td>\n",
       "      <td>43</td>\n",
       "      <td>2</td>\n",
       "      <td>...</td>\n",
       "      <td>2</td>\n",
       "      <td>2</td>\n",
       "      <td>2</td>\n",
       "      <td>2</td>\n",
       "      <td>2</td>\n",
       "      <td>2</td>\n",
       "      <td>2</td>\n",
       "      <td>3</td>\n",
       "      <td>97</td>\n",
       "      <td>0</td>\n",
       "    </tr>\n",
       "    <tr>\n",
       "      <th>566601</th>\n",
       "      <td>0021c9</td>\n",
       "      <td>2</td>\n",
       "      <td>1</td>\n",
       "      <td>16-05-2020</td>\n",
       "      <td>16-05-2020</td>\n",
       "      <td>9999-99-99</td>\n",
       "      <td>97</td>\n",
       "      <td>1</td>\n",
       "      <td>65</td>\n",
       "      <td>97</td>\n",
       "      <td>...</td>\n",
       "      <td>1</td>\n",
       "      <td>2</td>\n",
       "      <td>2</td>\n",
       "      <td>1</td>\n",
       "      <td>2</td>\n",
       "      <td>2</td>\n",
       "      <td>2</td>\n",
       "      <td>3</td>\n",
       "      <td>97</td>\n",
       "      <td>0</td>\n",
       "    </tr>\n",
       "  </tbody>\n",
       "</table>\n",
       "<p>566602 rows × 24 columns</p>\n",
       "</div>"
      ],
      "text/plain": [
       "            id  sex  patient_type  entry_date date_symptoms   date_died  \\\n",
       "0       16169f    2             1  04-05-2020    02-05-2020  9999-99-99   \n",
       "1       1009bf    2             1  19-03-2020    17-03-2020  9999-99-99   \n",
       "2       167386    1             2  06-04-2020    01-04-2020  9999-99-99   \n",
       "3       0b5948    2             2  17-04-2020    10-04-2020  9999-99-99   \n",
       "4       0d01b5    1             2  13-04-2020    13-04-2020  22-04-2020   \n",
       "...        ...  ...           ...         ...           ...         ...   \n",
       "566597  01ff60    2             1  13-05-2020    03-05-2020  9999-99-99   \n",
       "566598  047cd1    1             1  07-04-2020    06-04-2020  9999-99-99   \n",
       "566599  1beb81    1             2  14-05-2020    01-05-2020  9999-99-99   \n",
       "566600  16fb02    1             1  31-05-2020    29-05-2020  9999-99-99   \n",
       "566601  0021c9    2             1  16-05-2020    16-05-2020  9999-99-99   \n",
       "\n",
       "        intubed  pneumonia  age  pregnancy  ...  hypertension  other_disease  \\\n",
       "0            97          2   27         97  ...             2              2   \n",
       "1            97          2   24         97  ...             2              2   \n",
       "2             2          2   54          2  ...             2              2   \n",
       "3             2          1   30         97  ...             2              2   \n",
       "4             2          2   60          2  ...             1              2   \n",
       "...         ...        ...  ...        ...  ...           ...            ...   \n",
       "566597       97          2   58         97  ...             2              2   \n",
       "566598       97          2   48          2  ...             2              2   \n",
       "566599        2          1   49          2  ...             2              2   \n",
       "566600       97          1   43          2  ...             2              2   \n",
       "566601       97          1   65         97  ...             1              2   \n",
       "\n",
       "        cardiovascular  obesity  renal_chronic  tobacco  contact_other_covid  \\\n",
       "0                    2        2              2        2                    2   \n",
       "1                    2        2              2        2                   99   \n",
       "2                    2        1              2        2                   99   \n",
       "3                    2        2              2        2                   99   \n",
       "4                    1        2              2        2                   99   \n",
       "...                ...      ...            ...      ...                  ...   \n",
       "566597               2        2              2        2                    2   \n",
       "566598               2        2              2        2                    2   \n",
       "566599               2        1              2        2                   99   \n",
       "566600               2        2              2        2                    2   \n",
       "566601               2        1              2        2                    2   \n",
       "\n",
       "        covid_res  icu  status  \n",
       "0               1   97       0  \n",
       "1               1   97       0  \n",
       "2               1    2       0  \n",
       "3               1    2       0  \n",
       "4               1    2       1  \n",
       "...           ...  ...     ...  \n",
       "566597          3   97       0  \n",
       "566598          3   97       0  \n",
       "566599          3    2       0  \n",
       "566600          3   97       0  \n",
       "566601          3   97       0  \n",
       "\n",
       "[566602 rows x 24 columns]"
      ]
     },
     "execution_count": 5,
     "metadata": {},
     "output_type": "execute_result"
    }
   ],
   "source": [
    "dt['status'] = dt['date_died'].apply(lambda x: 0 if x == '9999-99-99' else 1)\n",
    "dt"
   ]
  },
  {
   "cell_type": "markdown",
   "id": "f548d589",
   "metadata": {},
   "source": [
    "<h1> Data Cleaning </h1>"
   ]
  },
  {
   "cell_type": "markdown",
   "id": "fd8fc38d",
   "metadata": {},
   "source": [
    "<h2>    Feature Selection </h2>"
   ]
  },
  {
   "cell_type": "code",
   "execution_count": 6,
   "id": "0c0f556c",
   "metadata": {},
   "outputs": [
    {
     "data": {
      "text/html": [
       "<div>\n",
       "<style scoped>\n",
       "    .dataframe tbody tr th:only-of-type {\n",
       "        vertical-align: middle;\n",
       "    }\n",
       "\n",
       "    .dataframe tbody tr th {\n",
       "        vertical-align: top;\n",
       "    }\n",
       "\n",
       "    .dataframe thead th {\n",
       "        text-align: right;\n",
       "    }\n",
       "</style>\n",
       "<table border=\"1\" class=\"dataframe\">\n",
       "  <thead>\n",
       "    <tr style=\"text-align: right;\">\n",
       "      <th></th>\n",
       "      <th>intubed</th>\n",
       "      <th>pneumonia</th>\n",
       "      <th>age</th>\n",
       "      <th>pregnancy</th>\n",
       "      <th>diabetes</th>\n",
       "      <th>copd</th>\n",
       "      <th>asthma</th>\n",
       "      <th>inmsupr</th>\n",
       "      <th>hypertension</th>\n",
       "      <th>other_disease</th>\n",
       "      <th>cardiovascular</th>\n",
       "      <th>obesity</th>\n",
       "      <th>renal_chronic</th>\n",
       "      <th>tobacco</th>\n",
       "      <th>contact_other_covid</th>\n",
       "      <th>covid_res</th>\n",
       "      <th>status</th>\n",
       "    </tr>\n",
       "  </thead>\n",
       "  <tbody>\n",
       "    <tr>\n",
       "      <th>0</th>\n",
       "      <td>97</td>\n",
       "      <td>2</td>\n",
       "      <td>27</td>\n",
       "      <td>97</td>\n",
       "      <td>2</td>\n",
       "      <td>2</td>\n",
       "      <td>2</td>\n",
       "      <td>2</td>\n",
       "      <td>2</td>\n",
       "      <td>2</td>\n",
       "      <td>2</td>\n",
       "      <td>2</td>\n",
       "      <td>2</td>\n",
       "      <td>2</td>\n",
       "      <td>2</td>\n",
       "      <td>1</td>\n",
       "      <td>0</td>\n",
       "    </tr>\n",
       "    <tr>\n",
       "      <th>1</th>\n",
       "      <td>97</td>\n",
       "      <td>2</td>\n",
       "      <td>24</td>\n",
       "      <td>97</td>\n",
       "      <td>2</td>\n",
       "      <td>2</td>\n",
       "      <td>2</td>\n",
       "      <td>2</td>\n",
       "      <td>2</td>\n",
       "      <td>2</td>\n",
       "      <td>2</td>\n",
       "      <td>2</td>\n",
       "      <td>2</td>\n",
       "      <td>2</td>\n",
       "      <td>99</td>\n",
       "      <td>1</td>\n",
       "      <td>0</td>\n",
       "    </tr>\n",
       "    <tr>\n",
       "      <th>2</th>\n",
       "      <td>2</td>\n",
       "      <td>2</td>\n",
       "      <td>54</td>\n",
       "      <td>2</td>\n",
       "      <td>2</td>\n",
       "      <td>2</td>\n",
       "      <td>2</td>\n",
       "      <td>2</td>\n",
       "      <td>2</td>\n",
       "      <td>2</td>\n",
       "      <td>2</td>\n",
       "      <td>1</td>\n",
       "      <td>2</td>\n",
       "      <td>2</td>\n",
       "      <td>99</td>\n",
       "      <td>1</td>\n",
       "      <td>0</td>\n",
       "    </tr>\n",
       "    <tr>\n",
       "      <th>3</th>\n",
       "      <td>2</td>\n",
       "      <td>1</td>\n",
       "      <td>30</td>\n",
       "      <td>97</td>\n",
       "      <td>2</td>\n",
       "      <td>2</td>\n",
       "      <td>2</td>\n",
       "      <td>2</td>\n",
       "      <td>2</td>\n",
       "      <td>2</td>\n",
       "      <td>2</td>\n",
       "      <td>2</td>\n",
       "      <td>2</td>\n",
       "      <td>2</td>\n",
       "      <td>99</td>\n",
       "      <td>1</td>\n",
       "      <td>0</td>\n",
       "    </tr>\n",
       "    <tr>\n",
       "      <th>4</th>\n",
       "      <td>2</td>\n",
       "      <td>2</td>\n",
       "      <td>60</td>\n",
       "      <td>2</td>\n",
       "      <td>1</td>\n",
       "      <td>2</td>\n",
       "      <td>2</td>\n",
       "      <td>2</td>\n",
       "      <td>1</td>\n",
       "      <td>2</td>\n",
       "      <td>1</td>\n",
       "      <td>2</td>\n",
       "      <td>2</td>\n",
       "      <td>2</td>\n",
       "      <td>99</td>\n",
       "      <td>1</td>\n",
       "      <td>1</td>\n",
       "    </tr>\n",
       "    <tr>\n",
       "      <th>...</th>\n",
       "      <td>...</td>\n",
       "      <td>...</td>\n",
       "      <td>...</td>\n",
       "      <td>...</td>\n",
       "      <td>...</td>\n",
       "      <td>...</td>\n",
       "      <td>...</td>\n",
       "      <td>...</td>\n",
       "      <td>...</td>\n",
       "      <td>...</td>\n",
       "      <td>...</td>\n",
       "      <td>...</td>\n",
       "      <td>...</td>\n",
       "      <td>...</td>\n",
       "      <td>...</td>\n",
       "      <td>...</td>\n",
       "      <td>...</td>\n",
       "    </tr>\n",
       "    <tr>\n",
       "      <th>566597</th>\n",
       "      <td>97</td>\n",
       "      <td>2</td>\n",
       "      <td>58</td>\n",
       "      <td>97</td>\n",
       "      <td>1</td>\n",
       "      <td>2</td>\n",
       "      <td>2</td>\n",
       "      <td>2</td>\n",
       "      <td>2</td>\n",
       "      <td>2</td>\n",
       "      <td>2</td>\n",
       "      <td>2</td>\n",
       "      <td>2</td>\n",
       "      <td>2</td>\n",
       "      <td>2</td>\n",
       "      <td>3</td>\n",
       "      <td>0</td>\n",
       "    </tr>\n",
       "    <tr>\n",
       "      <th>566598</th>\n",
       "      <td>97</td>\n",
       "      <td>2</td>\n",
       "      <td>48</td>\n",
       "      <td>2</td>\n",
       "      <td>2</td>\n",
       "      <td>2</td>\n",
       "      <td>2</td>\n",
       "      <td>2</td>\n",
       "      <td>2</td>\n",
       "      <td>2</td>\n",
       "      <td>2</td>\n",
       "      <td>2</td>\n",
       "      <td>2</td>\n",
       "      <td>2</td>\n",
       "      <td>2</td>\n",
       "      <td>3</td>\n",
       "      <td>0</td>\n",
       "    </tr>\n",
       "    <tr>\n",
       "      <th>566599</th>\n",
       "      <td>2</td>\n",
       "      <td>1</td>\n",
       "      <td>49</td>\n",
       "      <td>2</td>\n",
       "      <td>2</td>\n",
       "      <td>2</td>\n",
       "      <td>2</td>\n",
       "      <td>2</td>\n",
       "      <td>2</td>\n",
       "      <td>2</td>\n",
       "      <td>2</td>\n",
       "      <td>1</td>\n",
       "      <td>2</td>\n",
       "      <td>2</td>\n",
       "      <td>99</td>\n",
       "      <td>3</td>\n",
       "      <td>0</td>\n",
       "    </tr>\n",
       "    <tr>\n",
       "      <th>566600</th>\n",
       "      <td>97</td>\n",
       "      <td>1</td>\n",
       "      <td>43</td>\n",
       "      <td>2</td>\n",
       "      <td>2</td>\n",
       "      <td>2</td>\n",
       "      <td>2</td>\n",
       "      <td>2</td>\n",
       "      <td>2</td>\n",
       "      <td>2</td>\n",
       "      <td>2</td>\n",
       "      <td>2</td>\n",
       "      <td>2</td>\n",
       "      <td>2</td>\n",
       "      <td>2</td>\n",
       "      <td>3</td>\n",
       "      <td>0</td>\n",
       "    </tr>\n",
       "    <tr>\n",
       "      <th>566601</th>\n",
       "      <td>97</td>\n",
       "      <td>1</td>\n",
       "      <td>65</td>\n",
       "      <td>97</td>\n",
       "      <td>1</td>\n",
       "      <td>2</td>\n",
       "      <td>2</td>\n",
       "      <td>2</td>\n",
       "      <td>1</td>\n",
       "      <td>2</td>\n",
       "      <td>2</td>\n",
       "      <td>1</td>\n",
       "      <td>2</td>\n",
       "      <td>2</td>\n",
       "      <td>2</td>\n",
       "      <td>3</td>\n",
       "      <td>0</td>\n",
       "    </tr>\n",
       "  </tbody>\n",
       "</table>\n",
       "<p>566602 rows × 17 columns</p>\n",
       "</div>"
      ],
      "text/plain": [
       "        intubed  pneumonia  age  pregnancy  diabetes  copd  asthma  inmsupr  \\\n",
       "0            97          2   27         97         2     2       2        2   \n",
       "1            97          2   24         97         2     2       2        2   \n",
       "2             2          2   54          2         2     2       2        2   \n",
       "3             2          1   30         97         2     2       2        2   \n",
       "4             2          2   60          2         1     2       2        2   \n",
       "...         ...        ...  ...        ...       ...   ...     ...      ...   \n",
       "566597       97          2   58         97         1     2       2        2   \n",
       "566598       97          2   48          2         2     2       2        2   \n",
       "566599        2          1   49          2         2     2       2        2   \n",
       "566600       97          1   43          2         2     2       2        2   \n",
       "566601       97          1   65         97         1     2       2        2   \n",
       "\n",
       "        hypertension  other_disease  cardiovascular  obesity  renal_chronic  \\\n",
       "0                  2              2               2        2              2   \n",
       "1                  2              2               2        2              2   \n",
       "2                  2              2               2        1              2   \n",
       "3                  2              2               2        2              2   \n",
       "4                  1              2               1        2              2   \n",
       "...              ...            ...             ...      ...            ...   \n",
       "566597             2              2               2        2              2   \n",
       "566598             2              2               2        2              2   \n",
       "566599             2              2               2        1              2   \n",
       "566600             2              2               2        2              2   \n",
       "566601             1              2               2        1              2   \n",
       "\n",
       "        tobacco  contact_other_covid  covid_res  status  \n",
       "0             2                    2          1       0  \n",
       "1             2                   99          1       0  \n",
       "2             2                   99          1       0  \n",
       "3             2                   99          1       0  \n",
       "4             2                   99          1       1  \n",
       "...         ...                  ...        ...     ...  \n",
       "566597        2                    2          3       0  \n",
       "566598        2                    2          3       0  \n",
       "566599        2                   99          3       0  \n",
       "566600        2                    2          3       0  \n",
       "566601        2                    2          3       0  \n",
       "\n",
       "[566602 rows x 17 columns]"
      ]
     },
     "execution_count": 6,
     "metadata": {},
     "output_type": "execute_result"
    }
   ],
   "source": [
    "dt.drop(columns={\"id\",\"entry_date\",\"date_symptoms\",\"date_died\",\"sex\",\"patient_type\",\"icu\"}, axis=1, inplace=True)\n",
    "dt"
   ]
  },
  {
   "cell_type": "markdown",
   "id": "5f3dcbbc",
   "metadata": {},
   "source": [
    "<h2> Missing Values </h2>\n",
    "\n",
    "Mengganti semua missing value(97,98,99) pada data menjadi NaN kecuali pada kolom Age"
   ]
  },
  {
   "cell_type": "code",
   "execution_count": 7,
   "id": "d9aa60f6",
   "metadata": {},
   "outputs": [],
   "source": [
    "temp = dt['age'] \n",
    "dt= dt.replace([97,98,99], [np.nan for i in range(3)])\n",
    "dt['age'] = temp"
   ]
  },
  {
   "cell_type": "markdown",
   "id": "e02fff85",
   "metadata": {},
   "source": [
    "Memeriksa jumlah missing value"
   ]
  },
  {
   "cell_type": "code",
   "execution_count": 8,
   "id": "218b317b",
   "metadata": {},
   "outputs": [
    {
     "name": "stdout",
     "output_type": "stream",
     "text": [
      "intubed                444813\n",
      "pneumonia                  11\n",
      "age                         0\n",
      "pregnancy              288699\n",
      "diabetes                 1981\n",
      "copd                     1749\n",
      "asthma                   1752\n",
      "inmsupr                  1980\n",
      "hypertension             1824\n",
      "other_disease            2598\n",
      "cardiovascular           1822\n",
      "obesity                  1781\n",
      "renal_chronic            1792\n",
      "tobacco                  1907\n",
      "contact_other_covid    175031\n",
      "covid_res                   0\n",
      "status                      0\n",
      "dtype: int64\n"
     ]
    }
   ],
   "source": [
    "print(dt.isnull().sum())"
   ]
  },
  {
   "cell_type": "markdown",
   "id": "e9bbc0d3",
   "metadata": {},
   "source": [
    "Drop All miss value"
   ]
  },
  {
   "cell_type": "code",
   "execution_count": 9,
   "id": "c54056db",
   "metadata": {},
   "outputs": [],
   "source": [
    "dt= dt.dropna()"
   ]
  },
  {
   "cell_type": "markdown",
   "id": "b1d10451",
   "metadata": {},
   "source": [
    "Memastikan bahwa sudah tidak ada miss value"
   ]
  },
  {
   "cell_type": "code",
   "execution_count": 10,
   "id": "5feee49b",
   "metadata": {},
   "outputs": [
    {
     "name": "stdout",
     "output_type": "stream",
     "text": [
      "intubed                0\n",
      "pneumonia              0\n",
      "age                    0\n",
      "pregnancy              0\n",
      "diabetes               0\n",
      "copd                   0\n",
      "asthma                 0\n",
      "inmsupr                0\n",
      "hypertension           0\n",
      "other_disease          0\n",
      "cardiovascular         0\n",
      "obesity                0\n",
      "renal_chronic          0\n",
      "tobacco                0\n",
      "contact_other_covid    0\n",
      "covid_res              0\n",
      "status                 0\n",
      "dtype: int64\n"
     ]
    }
   ],
   "source": [
    "print(dt.isnull().sum())"
   ]
  },
  {
   "cell_type": "markdown",
   "id": "bbb103a0",
   "metadata": {},
   "source": [
    "Miss Value sudah teratasi"
   ]
  },
  {
   "cell_type": "markdown",
   "id": "fbebb9f8",
   "metadata": {},
   "source": [
    "<h2> Visualisasi Nilai Korelasi </h2>"
   ]
  },
  {
   "cell_type": "code",
   "execution_count": 11,
   "id": "5e14c1d8",
   "metadata": {},
   "outputs": [
    {
     "data": {
      "image/png": "[encoded data removed]",
      "text/plain": [
       "<Figure size 1008x720 with 2 Axes>"
      ]
     },
     "metadata": {
      "needs_background": "light"
     },
     "output_type": "display_data"
    }
   ],
   "source": [
    "#ngecek heatmap dengan angka\n",
    "plt.figure(figsize=(14,10))\n",
    "sns.set(style = \"white\", font_scale = 1)\n",
    "sns.heatmap(data = dt.corr().round(2), cmap = \"coolwarm\", annot=True, annot_kws = {\"size\":12})\n",
    "plt.tight_layout()\n",
    "plt.show()"
   ]
  },
  {
   "cell_type": "markdown",
   "id": "4d17d851",
   "metadata": {},
   "source": [
    "- intubed = -0.35 \n",
    "- pneumonia = -0.24 \n",
    "- age = 0.23\n",
    "- **pregnancy = 0.06**\n",
    "- diabetes = -0.13\n",
    "- **copd = -0.05**\n",
    "- **asthma =0.02**\n",
    "- **inmsupr = -0**\n",
    "- hypertension = -0.14 \n",
    "- **other_disease = -0.01**\n",
    "- **cardiovascular = -0.04**\n",
    "- **obesity = -0.07**\n",
    "- **renal_chronic = -0.05**\n",
    "- **tobacco = 0**\n",
    "- **contact_other_covid= -0.08**\n",
    "- **covid_res= 0.08**"
   ]
  },
  {
   "cell_type": "markdown",
   "id": "9acc21c0",
   "metadata": {},
   "source": [
    "<h2> Feature Selection </h2>\n",
    "\n",
    "\n",
    "Tidak menggunakan atribut/fitur yang memiliki korelasi terhadap variabel dependen dibawah 0.1"
   ]
  },
  {
   "cell_type": "code",
   "execution_count": 12,
   "id": "c3a42466",
   "metadata": {},
   "outputs": [
    {
     "data": {
      "text/html": [
       "<div>\n",
       "<style scoped>\n",
       "    .dataframe tbody tr th:only-of-type {\n",
       "        vertical-align: middle;\n",
       "    }\n",
       "\n",
       "    .dataframe tbody tr th {\n",
       "        vertical-align: top;\n",
       "    }\n",
       "\n",
       "    .dataframe thead th {\n",
       "        text-align: right;\n",
       "    }\n",
       "</style>\n",
       "<table border=\"1\" class=\"dataframe\">\n",
       "  <thead>\n",
       "    <tr style=\"text-align: right;\">\n",
       "      <th></th>\n",
       "      <th>intubed</th>\n",
       "      <th>pneumonia</th>\n",
       "      <th>age</th>\n",
       "      <th>diabetes</th>\n",
       "      <th>hypertension</th>\n",
       "      <th>obesity</th>\n",
       "      <th>status</th>\n",
       "    </tr>\n",
       "  </thead>\n",
       "  <tbody>\n",
       "    <tr>\n",
       "      <th>21</th>\n",
       "      <td>2.0</td>\n",
       "      <td>2.0</td>\n",
       "      <td>25</td>\n",
       "      <td>2.0</td>\n",
       "      <td>2.0</td>\n",
       "      <td>2.0</td>\n",
       "      <td>0.0</td>\n",
       "    </tr>\n",
       "    <tr>\n",
       "      <th>30</th>\n",
       "      <td>2.0</td>\n",
       "      <td>2.0</td>\n",
       "      <td>52</td>\n",
       "      <td>2.0</td>\n",
       "      <td>2.0</td>\n",
       "      <td>1.0</td>\n",
       "      <td>0.0</td>\n",
       "    </tr>\n",
       "    <tr>\n",
       "      <th>71</th>\n",
       "      <td>2.0</td>\n",
       "      <td>1.0</td>\n",
       "      <td>51</td>\n",
       "      <td>2.0</td>\n",
       "      <td>2.0</td>\n",
       "      <td>2.0</td>\n",
       "      <td>0.0</td>\n",
       "    </tr>\n",
       "    <tr>\n",
       "      <th>79</th>\n",
       "      <td>1.0</td>\n",
       "      <td>1.0</td>\n",
       "      <td>67</td>\n",
       "      <td>1.0</td>\n",
       "      <td>1.0</td>\n",
       "      <td>1.0</td>\n",
       "      <td>0.0</td>\n",
       "    </tr>\n",
       "    <tr>\n",
       "      <th>93</th>\n",
       "      <td>2.0</td>\n",
       "      <td>1.0</td>\n",
       "      <td>59</td>\n",
       "      <td>1.0</td>\n",
       "      <td>2.0</td>\n",
       "      <td>2.0</td>\n",
       "      <td>0.0</td>\n",
       "    </tr>\n",
       "    <tr>\n",
       "      <th>...</th>\n",
       "      <td>...</td>\n",
       "      <td>...</td>\n",
       "      <td>...</td>\n",
       "      <td>...</td>\n",
       "      <td>...</td>\n",
       "      <td>...</td>\n",
       "      <td>...</td>\n",
       "    </tr>\n",
       "    <tr>\n",
       "      <th>566497</th>\n",
       "      <td>2.0</td>\n",
       "      <td>1.0</td>\n",
       "      <td>62</td>\n",
       "      <td>2.0</td>\n",
       "      <td>2.0</td>\n",
       "      <td>2.0</td>\n",
       "      <td>0.0</td>\n",
       "    </tr>\n",
       "    <tr>\n",
       "      <th>566499</th>\n",
       "      <td>2.0</td>\n",
       "      <td>2.0</td>\n",
       "      <td>35</td>\n",
       "      <td>2.0</td>\n",
       "      <td>2.0</td>\n",
       "      <td>1.0</td>\n",
       "      <td>0.0</td>\n",
       "    </tr>\n",
       "    <tr>\n",
       "      <th>566543</th>\n",
       "      <td>2.0</td>\n",
       "      <td>1.0</td>\n",
       "      <td>57</td>\n",
       "      <td>2.0</td>\n",
       "      <td>1.0</td>\n",
       "      <td>1.0</td>\n",
       "      <td>0.0</td>\n",
       "    </tr>\n",
       "    <tr>\n",
       "      <th>566559</th>\n",
       "      <td>2.0</td>\n",
       "      <td>2.0</td>\n",
       "      <td>17</td>\n",
       "      <td>2.0</td>\n",
       "      <td>2.0</td>\n",
       "      <td>2.0</td>\n",
       "      <td>0.0</td>\n",
       "    </tr>\n",
       "    <tr>\n",
       "      <th>566578</th>\n",
       "      <td>1.0</td>\n",
       "      <td>1.0</td>\n",
       "      <td>34</td>\n",
       "      <td>2.0</td>\n",
       "      <td>2.0</td>\n",
       "      <td>2.0</td>\n",
       "      <td>1.0</td>\n",
       "    </tr>\n",
       "  </tbody>\n",
       "</table>\n",
       "<p>23158 rows × 7 columns</p>\n",
       "</div>"
      ],
      "text/plain": [
       "        intubed  pneumonia  age  diabetes  hypertension  obesity  status\n",
       "21          2.0        2.0   25       2.0           2.0      2.0     0.0\n",
       "30          2.0        2.0   52       2.0           2.0      1.0     0.0\n",
       "71          2.0        1.0   51       2.0           2.0      2.0     0.0\n",
       "79          1.0        1.0   67       1.0           1.0      1.0     0.0\n",
       "93          2.0        1.0   59       1.0           2.0      2.0     0.0\n",
       "...         ...        ...  ...       ...           ...      ...     ...\n",
       "566497      2.0        1.0   62       2.0           2.0      2.0     0.0\n",
       "566499      2.0        2.0   35       2.0           2.0      1.0     0.0\n",
       "566543      2.0        1.0   57       2.0           1.0      1.0     0.0\n",
       "566559      2.0        2.0   17       2.0           2.0      2.0     0.0\n",
       "566578      1.0        1.0   34       2.0           2.0      2.0     1.0\n",
       "\n",
       "[23158 rows x 7 columns]"
      ]
     },
     "execution_count": 12,
     "metadata": {},
     "output_type": "execute_result"
    }
   ],
   "source": [
    "dt.drop(columns={\"tobacco\",\"inmsupr\",\"pregnancy\", \"copd\", \"asthma\", \"other_disease\", \"cardiovascular\", \"renal_chronic\", \"contact_other_covid\", \"covid_res\"}, axis=1, inplace=True)\n",
    "dt}, axis=1, inplace=True)\n",
    "dt"
   ]
  },
  {
   "cell_type": "markdown",
   "id": "b8f99e9b",
   "metadata": {},
   "source": [
    "Mengganti level pada setiap variabel input<br>\n",
    "2->0 "
   ]
  },
  {
   "cell_type": "code",
   "execution_count": 13,
   "id": "301a05c6",
   "metadata": {},
   "outputs": [
    {
     "data": {
      "text/html": [
       "<div>\n",
       "<style scoped>\n",
       "    .dataframe tbody tr th:only-of-type {\n",
       "        vertical-align: middle;\n",
       "    }\n",
       "\n",
       "    .dataframe tbody tr th {\n",
       "        vertical-align: top;\n",
       "    }\n",
       "\n",
       "    .dataframe thead th {\n",
       "        text-align: right;\n",
       "    }\n",
       "</style>\n",
       "<table border=\"1\" class=\"dataframe\">\n",
       "  <thead>\n",
       "    <tr style=\"text-align: right;\">\n",
       "      <th></th>\n",
       "      <th>intubed</th>\n",
       "      <th>pneumonia</th>\n",
       "      <th>age</th>\n",
       "      <th>diabetes</th>\n",
       "      <th>hypertension</th>\n",
       "      <th>obesity</th>\n",
       "      <th>status</th>\n",
       "    </tr>\n",
       "  </thead>\n",
       "  <tbody>\n",
       "    <tr>\n",
       "      <th>21</th>\n",
       "      <td>0.0</td>\n",
       "      <td>0.0</td>\n",
       "      <td>25</td>\n",
       "      <td>0.0</td>\n",
       "      <td>0.0</td>\n",
       "      <td>0.0</td>\n",
       "      <td>0.0</td>\n",
       "    </tr>\n",
       "    <tr>\n",
       "      <th>30</th>\n",
       "      <td>0.0</td>\n",
       "      <td>0.0</td>\n",
       "      <td>52</td>\n",
       "      <td>0.0</td>\n",
       "      <td>0.0</td>\n",
       "      <td>1.0</td>\n",
       "      <td>0.0</td>\n",
       "    </tr>\n",
       "    <tr>\n",
       "      <th>71</th>\n",
       "      <td>0.0</td>\n",
       "      <td>1.0</td>\n",
       "      <td>51</td>\n",
       "      <td>0.0</td>\n",
       "      <td>0.0</td>\n",
       "      <td>0.0</td>\n",
       "      <td>0.0</td>\n",
       "    </tr>\n",
       "    <tr>\n",
       "      <th>79</th>\n",
       "      <td>1.0</td>\n",
       "      <td>1.0</td>\n",
       "      <td>67</td>\n",
       "      <td>1.0</td>\n",
       "      <td>1.0</td>\n",
       "      <td>1.0</td>\n",
       "      <td>0.0</td>\n",
       "    </tr>\n",
       "    <tr>\n",
       "      <th>93</th>\n",
       "      <td>0.0</td>\n",
       "      <td>1.0</td>\n",
       "      <td>59</td>\n",
       "      <td>1.0</td>\n",
       "      <td>0.0</td>\n",
       "      <td>0.0</td>\n",
       "      <td>0.0</td>\n",
       "    </tr>\n",
       "  </tbody>\n",
       "</table>\n",
       "</div>"
      ],
      "text/plain": [
       "    intubed  pneumonia  age  diabetes  hypertension  obesity  status\n",
       "21      0.0        0.0   25       0.0           0.0      0.0     0.0\n",
       "30      0.0        0.0   52       0.0           0.0      1.0     0.0\n",
       "71      0.0        1.0   51       0.0           0.0      0.0     0.0\n",
       "79      1.0        1.0   67       1.0           1.0      1.0     0.0\n",
       "93      0.0        1.0   59       1.0           0.0      0.0     0.0"
      ]
     },
     "execution_count": 13,
     "metadata": {},
     "output_type": "execute_result"
    }
   ],
   "source": [
    "temp = dt['age'] \n",
    "dt.replace(2.0,0,inplace=True)\n",
    "dt.replace(1.0,1,inplace=True)\n",
    "dt['age'] = temp\n",
    "dt.head()"
   ]
  },
  {
   "cell_type": "markdown",
   "id": "1cd4d8d3",
   "metadata": {},
   "source": [
    "<h1> Data Exploration </h1>"
   ]
  },
  {
   "cell_type": "code",
   "execution_count": 15,
   "id": "6959d11c",
   "metadata": {},
   "outputs": [
    {
     "data": {
      "text/plain": [
       "0.0    19138\n",
       "1.0     4020\n",
       "Name: status, dtype: int64"
      ]
     },
     "execution_count": 15,
     "metadata": {},
     "output_type": "execute_result"
    }
   ],
   "source": [
    "dt['status'].value_counts()"
   ]
  },
  {
   "cell_type": "code",
   "execution_count": 16,
   "id": "eeb5977e",
   "metadata": {
    "scrolled": true
   },
   "outputs": [
    {
     "data": {
      "image/png": "[encoded data removed]",
      "text/plain": [
       "<Figure size 432x288 with 1 Axes>"
      ]
     },
     "metadata": {},
     "output_type": "display_data"
    },
    {
     "data": {
      "text/plain": [
       "<Figure size 432x288 with 0 Axes>"
      ]
     },
     "metadata": {},
     "output_type": "display_data"
    }
   ],
   "source": [
    "sns.countplot(x='status',data=dt,palette='hls')\n",
    "plt.show()\n",
    "plt.savefig('count_plot')"
   ]
  },
  {
   "cell_type": "code",
   "execution_count": 39,
   "id": "589c8913",
   "metadata": {},
   "outputs": [
    {
     "data": {
      "text/plain": [
       "21        0.0\n",
       "30        0.0\n",
       "71        0.0\n",
       "79        0.0\n",
       "93        0.0\n",
       "         ... \n",
       "566497    0.0\n",
       "566499    0.0\n",
       "566543    0.0\n",
       "566559    0.0\n",
       "566578    1.0\n",
       "Name: status, Length: 23158, dtype: float64"
      ]
     },
     "execution_count": 39,
     "metadata": {},
     "output_type": "execute_result"
    }
   ],
   "source": [
    "dt['status']"
   ]
  },
  {
   "cell_type": "code",
   "execution_count": 17,
   "id": "be5c6fd6",
   "metadata": {},
   "outputs": [
    {
     "name": "stdout",
     "output_type": "stream",
     "text": [
      "percentage of not death is 82.64098799550911\n",
      "percentage of death 17.35901200449089\n"
     ]
    }
   ],
   "source": [
    "count_not_death = len(dt[dt['status']==0])\n",
    "count_death = len(dt[dt['status']==1])\n",
    "pct_of_not_death = count_not_death/(count_not_death+count_death)\n",
    "print(\"percentage of not death is\", pct_of_not_death*100)\n",
    "pct_of_death = count_death/(count_not_death+count_death)\n",
    "print(\"percentage of death\", pct_of_death*100)"
   ]
  },
  {
   "cell_type": "markdown",
   "id": "44a1e330",
   "metadata": {},
   "source": [
    "Data Imbalanced , ratio status pasien meninggal dengan tidak meninggal adalah 17: 83."
   ]
  },
  {
   "cell_type": "markdown",
   "id": "110c765c",
   "metadata": {},
   "source": [
    "<h2> Handling Imbalanced Data </h2>\n",
    "\n",
    "\n",
    "Terdapat 2 cara yang dapat dilakukan , yaitu undersampling dan oversampling . Oversampling adalah teknik mengambil kelas minoritas sedemikian rupa sehingga proporsinya dalam sample lebih besar dibandingkan proporsi asalnya. \n",
    "\n",
    "kelas minoritas =pasien meninggal \n",
    "kelas mayoritas =pasien tidak meninggal\n"
   ]
  },
  {
   "cell_type": "code",
   "execution_count": 88,
   "id": "bada2b19",
   "metadata": {},
   "outputs": [
    {
     "name": "stdout",
     "output_type": "stream",
     "text": [
      "Requirement already satisfied: imblearn in c:\\users\\s430fn\\anaconda3\\lib\\site-packages (0.0)\n",
      "Requirement already satisfied: imbalanced-learn in c:\\users\\s430fn\\anaconda3\\lib\\site-packages (from imblearn) (0.8.1)\n",
      "Requirement already satisfied: numpy>=1.13.3 in c:\\users\\s430fn\\anaconda3\\lib\\site-packages (from imbalanced-learn->imblearn) (1.19.5)\n",
      "Requirement already satisfied: scipy>=0.19.1 in c:\\users\\s430fn\\anaconda3\\lib\\site-packages (from imbalanced-learn->imblearn) (1.6.2)\n",
      "Requirement already satisfied: scikit-learn>=0.24 in c:\\users\\s430fn\\anaconda3\\lib\\site-packages (from imbalanced-learn->imblearn) (0.24.1)\n",
      "Requirement already satisfied: joblib>=0.11 in c:\\users\\s430fn\\anaconda3\\lib\\site-packages (from imbalanced-learn->imblearn) (1.0.1)\n",
      "Requirement already satisfied: threadpoolctl>=2.0.0 in c:\\users\\s430fn\\anaconda3\\lib\\site-packages (from scikit-learn>=0.24->imbalanced-learn->imblearn) (2.1.0)\n"
     ]
    }
   ],
   "source": [
    "!pip3 install imblearn"
   ]
  },
  {
   "cell_type": "markdown",
   "id": "c24802a0",
   "metadata": {},
   "source": [
    "<h2> SMOTE </h2> <br> \n",
    "Mensintesis sampel baru dari kelas minoritas untuk menyeimbangkan dataset dengan cara sampling ulang sampel kelas minoritas"
   ]
  },
  {
   "cell_type": "code",
   "execution_count": 19,
   "id": "ce420c25",
   "metadata": {},
   "outputs": [
    {
     "name": "stdout",
     "output_type": "stream",
     "text": [
      "length of oversampled data is  26846\n",
      "Number of not death in oversampled data 13423\n",
      "Number of death 13423\n",
      "Proportion of not death data in oversampled data is  0.5\n",
      "Proportion of death data in oversampled data is  0.5\n"
     ]
    }
   ],
   "source": [
    "X = dt.loc[:, dt.columns != 'status']\n",
    "y = dt.loc[:, dt.columns == 'status']\n",
    "from imblearn.over_sampling import SMOTE\n",
    "from sklearn.model_selection import train_test_split\n",
    "\n",
    "os = SMOTE(random_state=0)\n",
    "X_train, X_test, y_train, y_test = train_test_split(X, y, test_size=0.3, random_state=0)\n",
    "columns = X_train.columns\n",
    "os_data_X,os_data_y=os.fit_resample(X_train, y_train)\n",
    "os_data_X = pd.DataFrame(data=os_data_X,columns=columns )\n",
    "os_data_y= pd.DataFrame(data=os_data_y,columns=['status'])\n",
    "# we can Check the numbers of our data\n",
    "print(\"length of oversampled data is \",len(os_data_X))\n",
    "print(\"Number of not death in oversampled data\",len(os_data_y[os_data_y['status']==0]))\n",
    "print(\"Number of death\",len(os_data_y[os_data_y['status']==1]))\n",
    "print(\"Proportion of not death data in oversampled data is \",len(os_data_y[os_data_y['status']==0])/len(os_data_X))\n",
    "print(\"Proportion of death data in oversampled data is \",len(os_data_y[os_data_y['status']==1])/len(os_data_X))\n"
   ]
  },
  {
   "cell_type": "code",
   "execution_count": 45,
   "id": "f64a0343",
   "metadata": {},
   "outputs": [
    {
     "data": {
      "image/png": "[encoded data removed]",
      "text/plain": [
       "<Figure size 432x288 with 1 Axes>"
      ]
     },
     "metadata": {},
     "output_type": "display_data"
    },
    {
     "data": {
      "text/plain": [
       "<Figure size 432x288 with 0 Axes>"
      ]
     },
     "metadata": {},
     "output_type": "display_data"
    }
   ],
   "source": [
    "sns.countplot(x='status',data=os_data_y,palette='hls')\n",
    "plt.show()\n",
    "plt.savefig('count_plot')"
   ]
  },
  {
   "cell_type": "markdown",
   "id": "72f5d20a",
   "metadata": {},
   "source": [
    "Imbalanced dataset teratasi"
   ]
  },
  {
   "cell_type": "markdown",
   "id": "0e637b1d",
   "metadata": {},
   "source": [
    "<h1> Data Modelling </h1>"
   ]
  },
  {
   "cell_type": "markdown",
   "id": "a25e50ed",
   "metadata": {},
   "source": [
    "Menggunakan Regresi Logistik \n",
    "\n",
    "**Regresi Logistik** <br>\n",
    "Algoritma klasifikasi Machine Learning yang digunakan untuk memprediksi probabilitas variabel dependen kategoris. Dalam regresi logistik, variabel dependen adalah variabel biner yang berisi data berkode 1 (ya, berhasil, dst) atau 0 (tidak, gagal, dst). Dengan kata lain, model regresi logistik memprediksi P(Y=1) sebagai fungsi dari X."
   ]
  },
  {
   "cell_type": "markdown",
   "id": "959d2a77",
   "metadata": {},
   "source": [
    "<h3> Variable Definition </h2>"
   ]
  },
  {
   "cell_type": "code",
   "execution_count": 34,
   "id": "b461b583",
   "metadata": {},
   "outputs": [],
   "source": [
    "cols=['intubed','pneumonia','age','diabetes','hypertension','obesity']\n",
    "X=os_data_X[cols]\n",
    "y=os_data_y['status']"
   ]
  },
  {
   "cell_type": "markdown",
   "id": "f9fae06e",
   "metadata": {},
   "source": [
    "<h2> Implementing the model </h2>"
   ]
  },
  {
   "cell_type": "code",
   "execution_count": 35,
   "id": "5e22c335",
   "metadata": {},
   "outputs": [
    {
     "name": "stdout",
     "output_type": "stream",
     "text": [
      "Optimization terminated successfully.\n",
      "         Current function value: 0.626630\n",
      "         Iterations 6\n",
      "                         Results: Logit\n",
      "=================================================================\n",
      "Model:              Logit            Pseudo R-squared: 0.096     \n",
      "Dependent Variable: status           AIC:              33657.0448\n",
      "Date:               2021-12-12 22:32 BIC:              33706.2320\n",
      "No. Observations:   26846            Log-Likelihood:   -16823.   \n",
      "Df Model:           5                LL-Null:          -18608.   \n",
      "Df Residuals:       26840            LLR p-value:      0.0000    \n",
      "Converged:          1.0000           Scale:            1.0000    \n",
      "No. Iterations:     6.0000                                       \n",
      "-----------------------------------------------------------------\n",
      "                  Coef.  Std.Err.    z     P>|z|   [0.025  0.975]\n",
      "-----------------------------------------------------------------\n",
      "intubed           1.7383   0.0428  40.6525 0.0000  1.6545  1.8221\n",
      "pneumonia         0.5310   0.0302  17.5840 0.0000  0.4718  0.5901\n",
      "age              -0.0111   0.0005 -22.3651 0.0000 -0.0121 -0.0101\n",
      "diabetes          0.2046   0.0304   6.7360 0.0000  0.1451  0.2641\n",
      "hypertension      0.3839   0.0311  12.3336 0.0000  0.3229  0.4450\n",
      "obesity          -0.1770   0.0310  -5.7091 0.0000 -0.2378 -0.1162\n",
      "=================================================================\n",
      "\n"
     ]
    }
   ],
   "source": [
    "import statsmodels.api as sm\n",
    "logit_model=sm.Logit(y,X)\n",
    "result=logit_model.fit()\n",
    "print(result.summary2())"
   ]
  },
  {
   "cell_type": "markdown",
   "id": "de66efe1",
   "metadata": {},
   "source": [
    "semua nilai *p-value* dari seluruh variabel lebih kecil dari 0.05"
   ]
  },
  {
   "cell_type": "markdown",
   "id": "dd652c36",
   "metadata": {},
   "source": [
    "<h2> Logistic Regression Model Fitting </h2>"
   ]
  },
  {
   "cell_type": "code",
   "execution_count": 23,
   "id": "dfd6d0da",
   "metadata": {},
   "outputs": [
    {
     "data": {
      "text/plain": [
       "LogisticRegression()"
      ]
     },
     "execution_count": 23,
     "metadata": {},
     "output_type": "execute_result"
    }
   ],
   "source": [
    "from sklearn.linear_model import LogisticRegression\n",
    "from sklearn import metrics\n",
    "X_train, X_test, y_train, y_test = train_test_split(X, y, test_size=0.3, random_state=0)\n",
    "logreg = LogisticRegression()\n",
    "logreg.fit(X_train, y_train)"
   ]
  },
  {
   "cell_type": "markdown",
   "id": "bc3df569",
   "metadata": {},
   "source": [
    "<h2> Evaluate Model </h2> "
   ]
  },
  {
   "cell_type": "code",
   "execution_count": 24,
   "id": "5c99c2a2",
   "metadata": {},
   "outputs": [
    {
     "name": "stdout",
     "output_type": "stream",
     "text": [
      "Accuracy of logistic regression classifier on test set: 0.71\n"
     ]
    }
   ],
   "source": [
    "y_pred = logreg.predict(X_test)\n",
    "print('Accuracy of logistic regression classifier on test set: {:.2f}'.format(logreg.score(X_test, y_test)))"
   ]
  },
  {
   "cell_type": "markdown",
   "id": "1ce99178",
   "metadata": {},
   "source": [
    "<h3> Confusion Matrix </h3>"
   ]
  },
  {
   "cell_type": "code",
   "execution_count": 25,
   "id": "f25023a7",
   "metadata": {},
   "outputs": [
    {
     "name": "stdout",
     "output_type": "stream",
     "text": [
      "[[2759 1269]\n",
      " [1027 2999]]\n"
     ]
    }
   ],
   "source": [
    "from sklearn.metrics import confusion_matrix\n",
    "confusion_matrix = confusion_matrix(y_test, y_pred)\n",
    "print(confusion_matrix)"
   ]
  },
  {
   "cell_type": "markdown",
   "id": "8d4cc09e",
   "metadata": {},
   "source": [
    "*Interpretasi* = Hasil diatas menunjukkan bahwa terdapat 2759+2999 prediksi yang benar dan 1027+1269 prediksi yang salah"
   ]
  },
  {
   "cell_type": "markdown",
   "id": "02fde69c",
   "metadata": {},
   "source": [
    "<h3> Compute precision, recall, F-measure and support </h3>"
   ]
  },
  {
   "cell_type": "code",
   "execution_count": 26,
   "id": "9934c9cd",
   "metadata": {},
   "outputs": [
    {
     "name": "stdout",
     "output_type": "stream",
     "text": [
      "              precision    recall  f1-score   support\n",
      "\n",
      "         0.0       0.73      0.68      0.71      4028\n",
      "         1.0       0.70      0.74      0.72      4026\n",
      "\n",
      "    accuracy                           0.71      8054\n",
      "   macro avg       0.72      0.71      0.71      8054\n",
      "weighted avg       0.72      0.71      0.71      8054\n",
      "\n"
     ]
    }
   ],
   "source": [
    "from sklearn.metrics import classification_report\n",
    "print(classification_report(y_test, y_pred))"
   ]
  },
  {
   "cell_type": "markdown",
   "id": "aa41bf43",
   "metadata": {},
   "source": [
    "<h3> ROC Curve </h3> "
   ]
  },
  {
   "cell_type": "code",
   "execution_count": 27,
   "id": "71bc3d70",
   "metadata": {},
   "outputs": [
    {
     "data": {
      "image/png": "[encoded data removed]",
      "text/plain": [
       "<Figure size 432x288 with 1 Axes>"
      ]
     },
     "metadata": {},
     "output_type": "display_data"
    }
   ],
   "source": [
    "from sklearn.metrics import roc_auc_score\n",
    "from sklearn.metrics import roc_curve\n",
    "logit_roc_auc = roc_auc_score(y_test, logreg.predict(X_test))\n",
    "fpr, tpr, thresholds = roc_curve(y_test, logreg.predict_proba(X_test)[:,1])\n",
    "plt.figure()\n",
    "plt.plot(fpr, tpr, label='Logistic Regression (area = %0.2f)' % logit_roc_auc)\n",
    "plt.plot([0, 1], [0, 1],'r--')\n",
    "plt.xlim([0.0, 1.0])\n",
    "plt.ylim([0.0, 1.05])\n",
    "plt.xlabel('False Positive Rate')\n",
    "plt.ylabel('True Positive Rate')\n",
    "plt.title('Receiver operating characteristic')\n",
    "plt.legend(loc=\"lower right\")\n",
    "plt.savefig('Log_ROC')\n",
    "plt.show()"
   ]
  },
  {
   "cell_type": "markdown",
   "id": "3b9e5a05",
   "metadata": {},
   "source": [
    "<h2> Save and Restore Models </h2>   <br>\n",
    "Dalam beberapa baris kode di bawah ini, model yang kita buat pada langkah sebelumnya disimpan ke file, dan kemudian dimuat sebagai objek baru yang disebut logregp. Model yang dimuat kemudian digunakan untuk menghitung skor akurasi dan memprediksi hasil pada data (tes) baru yang tidak terlihat."
   ]
  },
  {
   "cell_type": "code",
   "execution_count": 28,
   "id": "8bfe7ff0",
   "metadata": {},
   "outputs": [],
   "source": [
    "import pickle"
   ]
  },
  {
   "cell_type": "code",
   "execution_count": 29,
   "id": "fc669f03",
   "metadata": {},
   "outputs": [],
   "source": [
    "Pkl_Filename = \"Pickle_RL_Model2.pkl\"  \n",
    "\n",
    "with open(Pkl_Filename, 'wb') as file:  \n",
    "    pickle.dump(logreg, file)"
   ]
  },
  {
   "cell_type": "code",
   "execution_count": 30,
   "id": "3edd56a3",
   "metadata": {},
   "outputs": [
    {
     "data": {
      "text/plain": [
       "LogisticRegression()"
      ]
     },
     "execution_count": 30,
     "metadata": {},
     "output_type": "execute_result"
    }
   ],
   "source": [
    "# Load the Model back from file\n",
    "with open(Pkl_Filename, 'rb') as file:  \n",
    "    logregp= pickle.load(file)\n",
    "\n",
    "logregp"
   ]
  },
  {
   "cell_type": "code",
   "execution_count": 31,
   "id": "ef3d708d",
   "metadata": {},
   "outputs": [
    {
     "name": "stdout",
     "output_type": "stream",
     "text": [
      "Test score: 71.49 %\n"
     ]
    },
    {
     "data": {
      "text/plain": [
       "array([1., 0., 0., ..., 1., 0., 0.])"
      ]
     },
     "execution_count": 31,
     "metadata": {},
     "output_type": "execute_result"
    }
   ],
   "source": [
    "# Calculate the Score \n",
    "score = logregp.score(X_test, y_test)  \n",
    "# Print the Score\n",
    "print(\"Test score: {0:.2f} %\".format(100 * score))  \n",
    "\n",
    "# Predict the Labels using the reloaded Model\n",
    "Ypredict = logregp.predict(X_test)  \n",
    "\n",
    "Ypredict"
   ]
  },
  {
   "cell_type": "code",
   "execution_count": 32,
   "id": "315960fb",
   "metadata": {},
   "outputs": [
    {
     "data": {
      "text/plain": [
       "LogisticRegression()"
      ]
     },
     "execution_count": 32,
     "metadata": {},
     "output_type": "execute_result"
    }
   ],
   "source": [
    "#read pickle\n",
    "\n",
    "object = pd.read_pickle(r'Pickle_RL_Model2.pkl')\n",
    "object"
   ]
  },
  {
   "cell_type": "code",
   "execution_count": 33,
   "id": "2f09bb9c",
   "metadata": {},
   "outputs": [
    {
     "data": {
      "text/plain": [
       "LinearRegression()"
      ]
     },
     "execution_count": 33,
     "metadata": {},
     "output_type": "execute_result"
    }
   ],
   "source": [
    "p = pd.read_pickle(r'model (1).pkl')\n",
    "p"
   ]
  }
 ],
 "metadata": {
  "kernelspec": {
   "display_name": "Python 3",
   "language": "python",
   "name": "python3"
  },
  "language_info": {
   "codemirror_mode": {
    "name": "ipython",
    "version": 3
   },
   "file_extension": ".py",
   "mimetype": "text/x-python",
   "name": "python",
   "nbconvert_exporter": "python",
   "pygments_lexer": "ipython3",
   "version": "3.8.8"
  }
 },
 "nbformat": 4,
 "nbformat_minor": 5
}
